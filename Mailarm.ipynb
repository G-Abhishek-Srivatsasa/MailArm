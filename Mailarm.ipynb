{
 "cells": [
  {
   "cell_type": "code",
   "execution_count": 14,
   "id": "b4515326",
   "metadata": {},
   "outputs": [],
   "source": [
    "# Input_1 -->TIME-->Input_2 (Any other alarm)-->YES--> alow to set alarm2.\n",
    "# NO --> then just set the 1st alarm!\n",
    "# Input 3 -->yes-->ask for 3rd time\n",
    "# Ask email for messaging \n",
    "# Ask the specific app password"
   ]
  },
  {
   "cell_type": "code",
   "execution_count": null,
   "id": "969ccf5a",
   "metadata": {},
   "outputs": [],
   "source": [
    "# All necessary Libraries\n",
    "import smtplib\n",
    "from datetime import datetime\n",
    "import time as t\n",
    "import getpass\n",
    "from IPython.display import clear_output\n",
    "from playsound import playsound"
   ]
  },
  {
   "cell_type": "code",
   "execution_count": null,
   "id": "ec14553d",
   "metadata": {},
   "outputs": [],
   "source": []
  },
  {
   "cell_type": "code",
   "execution_count": null,
   "id": "d7913b44",
   "metadata": {},
   "outputs": [
    {
     "data": {
      "text/plain": [
       "(220, b'2.0.0 Ready to start TLS')"
      ]
     },
     "execution_count": 16,
     "metadata": {},
     "output_type": "execute_result"
    }
   ],
   "source": [
    "smtp_object = smtplib.SMTP(\"smtp.gmail.com\",587)\n",
    "smtp_object.ehlo()\n",
    "smtp_object.starttls()\n"
   ]
  },
  {
   "cell_type": "code",
   "execution_count": null,
   "id": "fb4a5e4a",
   "metadata": {},
   "outputs": [
    {
     "data": {
      "text/plain": [
       "(235, b'2.7.0 Accepted')"
      ]
     },
     "execution_count": 17,
     "metadata": {},
     "output_type": "execute_result"
    }
   ],
   "source": [
    "# All inputs\n",
    "ask_email = input(\"Enter your email address: \")\n",
    "ask_password = getpass.getpass(\"Enter your email password: \")\n",
    "receiver = ask_email\n",
    "subject = \"TIME UP !\"\n",
    "body = \"Your alarm is ringing !\"\n",
    "msg = \"Subject :\"+ subject + \"\\n\" + body\n",
    "smtp_object.login(ask_email,ask_password)"
   ]
  },
  {
   "cell_type": "code",
   "execution_count": null,
   "id": "1c30cbdd",
   "metadata": {},
   "outputs": [
    {
     "name": "stdout",
     "output_type": "stream",
     "text": [
      "You are allowed to setup only 3 alarms at a time !\n",
      "\n",
      "TIME UP ITS 19:33:05\n",
      "\n",
      "TIME UP ITS 19:33:40\n",
      "\n",
      "TIME UP ITS 19:34:00\n"
     ]
    }
   ],
   "source": [
    "# Setting up the alarm\n",
    "ask_time_1 = input(\"Enter the time for 1st alarm :\")\n",
    "ask_time_2 = input(\"Enter the time for 2nd alarm :\")\n",
    "ask_time_3 = input(\"Enter the time for 3rd alarm :\")\n",
    "print(\"You are allowed to setup only 3 alarms at a time !\")\n",
    "\n",
    "if ask_time_1.strip().lower() == \"no\":\n",
    "    print(\"Okay no alarms for now!\")\n",
    "else:\n",
    "    while True:\n",
    "        now = datetime.now().strftime(\"%H:%M:%S\")\n",
    "        hour = int(now.split(\":\")[0])\n",
    "        t.sleep(1)\n",
    "        if ask_time_1 == now :\n",
    "            #clear_output()\n",
    "            print(f\"\\nTIME UP ITS {now}\")\n",
    "            smtp_object.sendmail(ask_email,receiver,msg)\n",
    "            playsound('alarm.mp3')  # Play the alarm sound\n",
    "            break\n",
    "\n",
    "if ask_time_2.strip().lower() == \"no\":\n",
    "    print(\"Okay no second alarms !\")\n",
    "else:\n",
    "    while True:\n",
    "        now = datetime.now().strftime(\"%H:%M:%S\")\n",
    "        hour = int(now.split(\":\")[0])\n",
    "        t.sleep(1)\n",
    "        if ask_time_2 == now :\n",
    "            #clear_output()\n",
    "            print(f\"\\nTIME UP ITS {now}\")\n",
    "            smtp_object.sendmail(ask_email,receiver,msg)\n",
    "            playsound('alarm.mp3')  # Play the alarm sound\n",
    "            break\n",
    "\n",
    "if ask_time_3.strip().lower() == \"no\":\n",
    "    print(\"Okay no third alarms !\")\n",
    "else :\n",
    "    while True:\n",
    "        now = datetime.now().strftime(\"%H:%M:%S\")\n",
    "        hour = int(now.split(\":\")[0])\n",
    "        t.sleep(1)\n",
    "        if ask_time_3 == now :\n",
    "            #clear_output()\n",
    "            print(f\"\\nTIME UP ITS {now}\")\n",
    "            smtp_object.sendmail(ask_email,receiver,msg)\n",
    "            playsound('alarm.mp3')  # Play the alarm sound\n",
    "            break\n",
    "\n",
    "        \n",
    "            \n",
    "\n",
    "\n"
   ]
  }
 ],
 "metadata": {
  "kernelspec": {
   "display_name": "Python 3",
   "language": "python",
   "name": "python3"
  },
  "language_info": {
   "codemirror_mode": {
    "name": "ipython",
    "version": 3
   },
   "file_extension": ".py",
   "mimetype": "text/x-python",
   "name": "python",
   "nbconvert_exporter": "python",
   "pygments_lexer": "ipython3",
   "version": "3.13.6"
  }
 },
 "nbformat": 4,
 "nbformat_minor": 5
}
